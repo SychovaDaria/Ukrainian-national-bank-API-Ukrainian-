{
 "cells": [
  {
   "cell_type": "markdown",
   "metadata": {},
   "source": [
    "#### Ознайомитися із API Національного банку \n",
    "https://bank.gov.ua/ua/open-data/api-dev\n",
    "\n"
   ]
  },
  {
   "cell_type": "markdown",
   "metadata": {},
   "source": [
    "1. Підключитися до API.\n"
   ]
  },
  {
   "cell_type": "code",
   "execution_count": 2,
   "metadata": {},
   "outputs": [],
   "source": [
    "import requests\n",
    "import json\n",
    "\n",
    "req = requests.get(\"https://bank.gov.ua/NBU_Exchange/exchange_site?start=20230101&end=20231001&valcode=usd&sort=exchangedate&order=desc&json\")\n"
   ]
  },
  {
   "cell_type": "code",
   "execution_count": 14,
   "metadata": {},
   "outputs": [],
   "source": [
    "data = req.json()\n"
   ]
  },
  {
   "cell_type": "markdown",
   "metadata": {},
   "source": [
    "2. Отримати курс долара за останній рік."
   ]
  },
  {
   "cell_type": "code",
   "execution_count": 16,
   "metadata": {},
   "outputs": [
    {
     "name": "stdout",
     "output_type": "stream",
     "text": [
      "годовой курс c 2023.01.01 по 2023.10.01 : 36.568599999999954\n"
     ]
    }
   ],
   "source": [
    "total_rate = 0\n",
    "count = 0\n",
    "for item in data:\n",
    "    total_rate += item['rate']\n",
    "    count += 1\n",
    "year_rate = total_rate / count\n",
    "\n",
    "print(f\"годовой курс c 2023.01.01 по 2023.10.01 : {year_rate}\")\n",
    "\n",
    "# курс доллара за год(9 месяцев) я приняла за среднее арифметическое курса за каждый день\n"
   ]
  },
  {
   "cell_type": "code",
   "execution_count": null,
   "metadata": {},
   "outputs": [],
   "source": [
    "\n"
   ]
  },
  {
   "cell_type": "markdown",
   "metadata": {},
   "source": [
    "3. Вивести середнє значення та відхилення курсу за кожний місяць."
   ]
  },
  {
   "cell_type": "code",
   "execution_count": 43,
   "metadata": {},
   "outputs": [
    {
     "name": "stdout",
     "output_type": "stream",
     "text": [
      "Среднее значение month 1: 36.5686\n",
      "Стандартное отклонение month 1: 0.0\n",
      "Среднее значение month 2: 36.5686\n",
      "Стандартное отклонение month 2: 0.0\n",
      "Среднее значение month 3: 36.5686\n",
      "Стандартное отклонение month 3: 0.0\n",
      "Среднее значение month 4: 36.5686\n",
      "Стандартное отклонение month 4: 0.0\n",
      "Среднее значение month 5: 36.5686\n",
      "Стандартное отклонение month 5: 0.0\n",
      "Среднее значение month 6: 36.5686\n",
      "Стандартное отклонение month 6: 0.0\n",
      "Среднее значение month 7: 36.5686\n",
      "Стандартное отклонение month 7: 0.0\n",
      "Среднее значение month 8: 36.5686\n",
      "Стандартное отклонение month 8: 0.0\n",
      "Среднее значение month 9: 36.5686\n",
      "Стандартное отклонение month 9: 0.0\n"
     ]
    }
   ],
   "source": [
    "import statistics\n",
    "\n",
    "req1 = requests.get(\"https://bank.gov.ua/NBU_Exchange/exchange_site?start=20230101&end=20230201&valcode=usd&sort=exchangedate&order=desc&json\")\n",
    "req2 = requests.get(\"https://bank.gov.ua/NBU_Exchange/exchange_site?start=20230201&end=20230301&valcode=usd&sort=exchangedate&order=desc&json\")\n",
    "req3 = requests.get(\"https://bank.gov.ua/NBU_Exchange/exchange_site?start=20230301&end=20230401&valcode=usd&sort=exchangedate&order=desc&json\")\n",
    "req4= requests.get(\"https://bank.gov.ua/NBU_Exchange/exchange_site?start=20230401&end=20230501&valcode=usd&sort=exchangedate&order=desc&json\")\n",
    "req5 = requests.get(\"https://bank.gov.ua/NBU_Exchange/exchange_site?start=20230501&end=20230601&valcode=usd&sort=exchangedate&order=desc&json\")\n",
    "req6 = requests.get(\"https://bank.gov.ua/NBU_Exchange/exchange_site?start=20230601&end=20230701&valcode=usd&sort=exchangedate&order=desc&json\")\n",
    "req7 = requests.get(\"https://bank.gov.ua/NBU_Exchange/exchange_site?start=20230701&end=20230801&valcode=usd&sort=exchangedate&order=desc&json\")\n",
    "req8 = requests.get(\"https://bank.gov.ua/NBU_Exchange/exchange_site?start=20230801&end=20230901&valcode=usd&sort=exchangedate&order=desc&json\")\n",
    "req9 = requests.get(\"https://bank.gov.ua/NBU_Exchange/exchange_site?start=20230901&end=20231001&valcode=usd&sort=exchangedate&order=desc&json\")\n",
    "\n",
    "data1 = req1.json()\n",
    "data2 = req2.json()\n",
    "data3 = req3.json()\n",
    "data4 = req4.json()\n",
    "data5 = req5.json()\n",
    "data6 = req6.json()\n",
    "data7 = req7.json()\n",
    "data8 = req8.json()\n",
    "data9 = req9.json()\n",
    "\n",
    "months_data = [data1, data2, data3, data4, data5, data6, data7, data8, data9]\n",
    "\n",
    "average_rates = []\n",
    "std_deviations = []\n",
    "\n",
    "for month_data in months_data:\n",
    "    rate_values = [item['rate'] for item in month_data]\n",
    "    mean = statistics.mean(rate_values)\n",
    "    std_deviation = statistics.stdev(rate_values)\n",
    "    average_rates.append(mean)\n",
    "    std_deviations.append(std_deviation)\n",
    "for i in range(len(average_rates)):\n",
    "    print(f\"Среднее значение month {i+1}: {average_rates[i]}\")\n",
    "    print(f\"Стандартное отклонение month {i+1}: {std_deviations[i]}\")\n"
   ]
  },
  {
   "cell_type": "markdown",
   "metadata": {},
   "source": [
    "4. Дану інформацію записати у файл за допомогою pickle."
   ]
  },
  {
   "cell_type": "code",
   "execution_count": 44,
   "metadata": {},
   "outputs": [],
   "source": [
    "import pickle\n",
    "\n",
    "with open('rage.pickle', 'wb') as file:\n",
    "    pickle.dump((year_rate, average_rates, std_deviations), file)\n"
   ]
  },
  {
   "cell_type": "code",
   "execution_count": null,
   "metadata": {},
   "outputs": [],
   "source": []
  }
 ],
 "metadata": {
  "kernelspec": {
   "display_name": "Python 3 (ipykernel)",
   "language": "python",
   "name": "python3"
  },
  "language_info": {
   "codemirror_mode": {
    "name": "ipython",
    "version": 3
   },
   "file_extension": ".py",
   "mimetype": "text/x-python",
   "name": "python",
   "nbconvert_exporter": "python",
   "pygments_lexer": "ipython3",
   "version": "3.11.7"
  }
 },
 "nbformat": 4,
 "nbformat_minor": 4
}
